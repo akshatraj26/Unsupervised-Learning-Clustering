


import pandas as pd
import numpy as np
import seaborn as sns
import matplotlib.pyplot as plt
import matplotlib.cm as cm
from sklearn.datasets import load_iris
from sklearn.cluster import KMeans





X, y = load_iris(return_X_y=True)


d = load_iris()
d


X


y





wcss = []
for i in range(1, 11):
    kmeans = KMeans(n_clusters=i, random_state=0)
    kmeans.fit(X)
    wcss.append(kmeans.inertia_)



wcss





plt.plot(range(1, 11), wcss)
plt.title("Elbow method")
plt.xlabel("No of clusters")
plt.ylabel("WCSS")
plt.show()








kmeans = KMeans(n_clusters=3, random_state=0)





dir(kmeans)


kmeans.cluster_centers_





yhat = kmeans.fit_predict(X)


yhat


y








plt.figure(figsize=(12, 5))
plt.subplot(1, 2, 1)
plt.scatter(X[:, 0], X[:,1], c = yhat, cmap=cm.Accent)
plt.grid(True)
for center in kmeans.cluster_centers_:
    center = center[:2]
    plt.scatter(center[0], center[1], marker='^', c ='red')
plt.xlabel("petal Length (cm)")
plt.ylabel("petal width (cm)")
    



